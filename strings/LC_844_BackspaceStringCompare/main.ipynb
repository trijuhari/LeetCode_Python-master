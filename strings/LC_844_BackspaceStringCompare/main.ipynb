{
 "cells": [
  {
   "cell_type": "code",
   "execution_count": 56,
   "metadata": {},
   "outputs": [],
   "source": [
    "class Solution(object):\n",
    "    def backspaceCompare(self, s, t):\n",
    "        \"\"\"\n",
    "        :type s: str\n",
    "        :type t: str\n",
    "        :rtype: bool\n",
    "        \"\"\"\n",
    "        hasil_s = self.stack_s(s)\n",
    "        hasil_t = self.stack_s(t)\n",
    "        return  hasil_s == hasil_t\n",
    "    \n",
    "    @staticmethod\n",
    "    def stack_s(s):\n",
    "        stack_s = []\n",
    "        for char in s:\n",
    "            if char != '#' : \n",
    "                stack_s.append(char)\n",
    "            else:\n",
    "                stack_s.pop()\n",
    "\n",
    "        return ( \"\".join(sorted(stack_s))   )\n",
    "\n",
    "    "
   ]
  },
  {
   "cell_type": "code",
   "execution_count": 57,
   "metadata": {},
   "outputs": [
    {
     "data": {
      "text/plain": [
       "False"
      ]
     },
     "execution_count": 57,
     "metadata": {},
     "output_type": "execute_result"
    }
   ],
   "source": [
    "s = \"a#c\"\n",
    "t = \"b\"\n",
    "a= Solution()\n",
    "a.backspaceCompare(s,t) "
   ]
  },
  {
   "cell_type": "code",
   "execution_count": 52,
   "metadata": {},
   "outputs": [],
   "source": [
    "class Solution(object):\n",
    "    @staticmethod\n",
    "    def stack_s(s):\n",
    "        stack_s = []\n",
    "        for char in s:\n",
    "            if char != '#':\n",
    "                stack_s.append(char)\n",
    "            elif stack_s:\n",
    "                stack_s.pop()\n",
    "\n",
    "        return \"\".join(stack_s)\n",
    "\n",
    "    def backspaceCompare(self, s, t):\n",
    "        \"\"\"\n",
    "        :type s: str\n",
    "        :type t: str\n",
    "        :rtype: bool\n",
    "        \"\"\"\n",
    "        hasil_s = self.stack_s(s)\n",
    "        hasil_t = self.stack_s(t)\n",
    "        return hasil_s == hasil_t"
   ]
  }
 ],
 "metadata": {
  "kernelspec": {
   "display_name": "base",
   "language": "python",
   "name": "python3"
  },
  "language_info": {
   "codemirror_mode": {
    "name": "ipython",
    "version": 3
   },
   "file_extension": ".py",
   "mimetype": "text/x-python",
   "name": "python",
   "nbconvert_exporter": "python",
   "pygments_lexer": "ipython3",
   "version": "3.9.16"
  },
  "orig_nbformat": 4,
  "vscode": {
   "interpreter": {
    "hash": "411961ea960fca14b53785b4dd15594fe86c89937a66a765acc3bac73ca80eb5"
   }
  }
 },
 "nbformat": 4,
 "nbformat_minor": 2
}
