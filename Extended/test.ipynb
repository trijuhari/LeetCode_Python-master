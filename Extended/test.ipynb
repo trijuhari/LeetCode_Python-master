{
 "cells": [
  {
   "cell_type": "code",
   "execution_count": 81,
   "metadata": {},
   "outputs": [
    {
     "name": "stdout",
     "output_type": "stream",
     "text": [
      "0\n",
      "4\n",
      "9\n",
      "3\n",
      "6\n",
      "2\n",
      "669\n",
      "2\n"
     ]
    }
   ],
   "source": [
    "position_of_6 = -1\n",
    "num = 9669\n",
    "temp_num = num\n",
    "    \n",
    "# Traverse the digits from left to right.\n",
    "for i in range(4, -1, -1):\n",
    "    # Get the current digit.\n",
    "    digit = temp_num // (10 ** i)\n",
    "    print(digit)\n",
    "    print(i)\n",
    "    if digit == 6:\n",
    "        # Store the position of the first \"6\" digit found.\n",
    "        position_of_6 = i\n",
    "        break\n",
    "    # Remove the processed digit from the number.\n",
    "    temp_num %= (10 ** i)\n",
    "print(temp_num)\n",
    "print(position_of_6)\n",
    "\n",
    "# if position_of_6 != -1:\n",
    "#     print (num + 3 * (10 ** position_of_6))\n",
    "# else:\n",
    "#     print(num)\n",
    "        "
   ]
  },
  {
   "cell_type": "code",
   "execution_count": 87,
   "metadata": {},
   "outputs": [
    {
     "data": {
      "text/plain": [
       "9.669"
      ]
     },
     "execution_count": 87,
     "metadata": {},
     "output_type": "execute_result"
    }
   ],
   "source": [
    "9669  / (10**3)"
   ]
  },
  {
   "cell_type": "code",
   "execution_count": 88,
   "metadata": {},
   "outputs": [],
   "source": [
    "list_unit_names, list_bedrooms, list_bathrooms, \\\n",
    "    list_rent_prices, list_areas, list_towers, list_floors, \\\n",
    "    list_time_taken, list_facilities_unit, list_facilities_apart, \\\n",
    "    list_conditions, list_estimation_prices = ([] for i in range(12))\n"
   ]
  },
  {
   "cell_type": "code",
   "execution_count": 90,
   "metadata": {},
   "outputs": [
    {
     "data": {
      "text/plain": [
       "[]"
      ]
     },
     "execution_count": 90,
     "metadata": {},
     "output_type": "execute_result"
    }
   ],
   "source": [
    "list_conditions"
   ]
  },
  {
   "cell_type": "code",
   "execution_count": null,
   "metadata": {},
   "outputs": [],
   "source": [
    "print (4 * (10 ** 0))\n",
    "# print(num +300)"
   ]
  },
  {
   "cell_type": "code",
   "execution_count": 31,
   "metadata": {},
   "outputs": [
    {
     "name": "stdout",
     "output_type": "stream",
     "text": [
      "6\n"
     ]
    }
   ],
   "source": [
    "num = 9996\n",
    "temp_num = numdigit = temp_num // (10 ** 0)\n",
    "print(digit)"
   ]
  },
  {
   "cell_type": "code",
   "execution_count": 37,
   "metadata": {},
   "outputs": [
    {
     "name": "stdout",
     "output_type": "stream",
     "text": [
      "999\n"
     ]
    }
   ],
   "source": [
    "num = 9996\n",
    "temp_num = numdigit = temp_num // (10 ** 4)\n",
    "print(digit)"
   ]
  },
  {
   "cell_type": "code",
   "execution_count": 66,
   "metadata": {},
   "outputs": [
    {
     "name": "stdout",
     "output_type": "stream",
     "text": [
      "9\n"
     ]
    }
   ],
   "source": [
    "num = 9669\n",
    "temp_num = num\n",
    "digit = temp_num // (10 ** 3)\n",
    "print(digit)"
   ]
  },
  {
   "cell_type": "code",
   "execution_count": null,
   "metadata": {},
   "outputs": [],
   "source": []
  },
  {
   "cell_type": "code",
   "execution_count": 65,
   "metadata": {},
   "outputs": [
    {
     "data": {
      "text/plain": [
       "3669"
      ]
     },
     "execution_count": 65,
     "metadata": {},
     "output_type": "execute_result"
    }
   ],
   "source": [
    "669+(3*10**3)"
   ]
  }
 ],
 "metadata": {
  "kernelspec": {
   "display_name": "base",
   "language": "python",
   "name": "python3"
  },
  "language_info": {
   "codemirror_mode": {
    "name": "ipython",
    "version": 3
   },
   "file_extension": ".py",
   "mimetype": "text/x-python",
   "name": "python",
   "nbconvert_exporter": "python",
   "pygments_lexer": "ipython3",
   "version": "3.9.16 (main, Mar  8 2023, 10:39:24) [MSC v.1916 64 bit (AMD64)]"
  },
  "orig_nbformat": 4,
  "vscode": {
   "interpreter": {
    "hash": "411961ea960fca14b53785b4dd15594fe86c89937a66a765acc3bac73ca80eb5"
   }
  }
 },
 "nbformat": 4,
 "nbformat_minor": 2
}
