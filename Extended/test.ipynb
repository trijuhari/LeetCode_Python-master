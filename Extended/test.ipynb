{
 "cells": [
  {
   "cell_type": "code",
   "execution_count": 81,
   "metadata": {},
   "outputs": [
    {
     "name": "stdout",
     "output_type": "stream",
     "text": [
      "0\n",
      "4\n",
      "9\n",
      "3\n",
      "6\n",
      "2\n",
      "669\n",
      "2\n"
     ]
    }
   ],
   "source": [
    "position_of_6 = -1\n",
    "num = 9669\n",
    "temp_num = num\n",
    "    \n",
    "# Traverse the digits from left to right.\n",
    "for i in range(4, -1, -1):\n",
    "    # Get the current digit.\n",
    "    digit = temp_num // (10 ** i)\n",
    "    print(digit)\n",
    "    print(i)\n",
    "    if digit == 6:\n",
    "        # Store the position of the first \"6\" digit found.\n",
    "        position_of_6 = i\n",
    "        break\n",
    "    # Remove the processed digit from the number.\n",
    "    temp_num %= (10 ** i)\n",
    "print(temp_num)\n",
    "print(position_of_6)\n",
    "\n",
    "# if position_of_6 != -1:\n",
    "#     print (num + 3 * (10 ** position_of_6))\n",
    "# else:\n",
    "#     print(num)\n",
    "        "
   ]
  },
  {
   "cell_type": "code",
   "execution_count": 87,
   "metadata": {},
   "outputs": [
    {
     "data": {
      "text/plain": [
       "9.669"
      ]
     },
     "execution_count": 87,
     "metadata": {},
     "output_type": "execute_result"
    }
   ],
   "source": [
    "9669  / (10**3)"
   ]
  },
  {
   "cell_type": "code",
   "execution_count": 88,
   "metadata": {},
   "outputs": [],
   "source": [
    "list_unit_names, list_bedrooms, list_bathrooms, \\\n",
    "    list_rent_prices, list_areas, list_towers, list_floors, \\\n",
    "    list_time_taken, list_facilities_unit, list_facilities_apart, \\\n",
    "    list_conditions, list_estimation_prices = ([] for i in range(12))\n"
   ]
  },
  {
   "cell_type": "code",
   "execution_count": 4,
   "metadata": {},
   "outputs": [
    {
     "name": "stdout",
     "output_type": "stream",
     "text": [
      "\n"
     ]
    }
   ],
   "source": [
    "list_conditions = 'abacara'\n",
    "print(list_conditions[1:1:1])"
   ]
  },
  {
   "cell_type": "code",
   "execution_count": null,
   "metadata": {},
   "outputs": [],
   "source": [
    "print (4 * (10 ** 0))\n",
    "# print(num +300)"
   ]
  },
  {
   "cell_type": "code",
   "execution_count": 31,
   "metadata": {},
   "outputs": [
    {
     "name": "stdout",
     "output_type": "stream",
     "text": [
      "6\n"
     ]
    }
   ],
   "source": [
    "num = 9996\n",
    "temp_num = numdigit = temp_num // (10 ** 0)\n",
    "print(digit)"
   ]
  },
  {
   "cell_type": "code",
   "execution_count": 37,
   "metadata": {},
   "outputs": [
    {
     "name": "stdout",
     "output_type": "stream",
     "text": [
      "999\n"
     ]
    }
   ],
   "source": [
    "num = 9996\n",
    "temp_num = numdigit = temp_num // (10 ** 4)\n",
    "print(digit)"
   ]
  },
  {
   "cell_type": "code",
   "execution_count": 66,
   "metadata": {},
   "outputs": [
    {
     "name": "stdout",
     "output_type": "stream",
     "text": [
      "9\n"
     ]
    }
   ],
   "source": [
    "num = 9669\n",
    "temp_num = num\n",
    "digit = temp_num // (10 ** 3)\n",
    "print(digit)"
   ]
  },
  {
   "cell_type": "code",
   "execution_count": null,
   "metadata": {},
   "outputs": [],
   "source": []
  },
  {
   "cell_type": "code",
   "execution_count": 61,
   "metadata": {},
   "outputs": [],
   "source": [
    "\n",
    "def lengthOfLongestSubstring( s):\n",
    "    seen = {}\n",
    "    l = 0\n",
    "    length = 0\n",
    "    for r in range(len(s)):\n",
    "        char = s[r]\n",
    "        print(char)\n",
    "\n",
    "        if char in seen and seen[char] >= l:\n",
    "            l = seen[char] + 1\n",
    "            print(\"l :\",l)\n",
    "            print(\"length :\",length)\n",
    "\n",
    "        else:\n",
    "            length = max(length, r - l +1 )\n",
    "            print(\"length :\",length)\n",
    "            print(\"l :\",l)\n",
    "\n",
    "\n",
    "        seen[char] = r\n",
    "\n",
    "    return length"
   ]
  },
  {
   "cell_type": "code",
   "execution_count": 64,
   "metadata": {},
   "outputs": [
    {
     "name": "stdout",
     "output_type": "stream",
     "text": [
      "p\n",
      "length : 1\n",
      "l : 0\n",
      "w\n",
      "length : 2\n",
      "l : 0\n",
      "w\n",
      "l : 2\n",
      "length : 2\n",
      "k\n",
      "length : 2\n",
      "l : 2\n",
      "e\n",
      "length : 3\n",
      "l : 2\n",
      "w\n",
      "l : 3\n",
      "length : 3\n"
     ]
    },
    {
     "data": {
      "text/plain": [
       "'ww'"
      ]
     },
     "execution_count": 64,
     "metadata": {},
     "output_type": "execute_result"
    }
   ],
   "source": [
    "obj = lengthOfLongestSubstring(\"pwwkew\")\n",
    "obj\n",
    "a = \"pwwkew\"\n",
    "a[1:3]"
   ]
  }
 ],
 "metadata": {
  "kernelspec": {
   "display_name": "base",
   "language": "python",
   "name": "python3"
  },
  "language_info": {
   "codemirror_mode": {
    "name": "ipython",
    "version": 3
   },
   "file_extension": ".py",
   "mimetype": "text/x-python",
   "name": "python",
   "nbconvert_exporter": "python",
   "pygments_lexer": "ipython3",
   "version": "3.9.16"
  },
  "orig_nbformat": 4,
  "vscode": {
   "interpreter": {
    "hash": "411961ea960fca14b53785b4dd15594fe86c89937a66a765acc3bac73ca80eb5"
   }
  }
 },
 "nbformat": 4,
 "nbformat_minor": 2
}
