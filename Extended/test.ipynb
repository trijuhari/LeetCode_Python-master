{
 "cells": [
  {
   "cell_type": "code",
   "execution_count": 81,
   "metadata": {},
   "outputs": [
    {
     "name": "stdout",
     "output_type": "stream",
     "text": [
      "0\n",
      "4\n",
      "9\n",
      "3\n",
      "6\n",
      "2\n",
      "669\n",
      "2\n"
     ]
    }
   ],
   "source": [
    "position_of_6 = -1\n",
    "num = 9669\n",
    "temp_num = num\n",
    "    \n",
    "# Traverse the digits from left to right.\n",
    "for i in range(4, -1, -1):\n",
    "    # Get the current digit.\n",
    "    digit = temp_num // (10 ** i)\n",
    "    print(digit)\n",
    "    print(i)\n",
    "    if digit == 6:\n",
    "        # Store the position of the first \"6\" digit found.\n",
    "        position_of_6 = i\n",
    "        break\n",
    "    # Remove the processed digit from the number.\n",
    "    temp_num %= (10 ** i)\n",
    "print(temp_num)\n",
    "print(position_of_6)\n",
    "\n",
    "# if position_of_6 != -1:\n",
    "#     print (num + 3 * (10 ** position_of_6))\n",
    "# else:\n",
    "#     print(num)\n",
    "        "
   ]
  },
  {
   "cell_type": "code",
   "execution_count": null,
   "metadata": {},
   "outputs": [],
   "source": []
  },
  {
   "cell_type": "code",
   "execution_count": 1,
   "metadata": {},
   "outputs": [
    {
     "name": "stdout",
     "output_type": "stream",
     "text": [
      "aacc\n",
      "accc\n"
     ]
    }
   ],
   "source": [
    "s = \"aacc\"\n",
    "t = \"ccac\"\n",
    "s= \"\".join(sorted(s))\n",
    "t= \"\".join(sorted(t))\n",
    "print(s)\n",
    "print(t)"
   ]
  },
  {
   "cell_type": "code",
   "execution_count": null,
   "metadata": {},
   "outputs": [],
   "source": []
  },
  {
   "cell_type": "code",
   "execution_count": 87,
   "metadata": {},
   "outputs": [
    {
     "data": {
      "text/plain": [
       "9.669"
      ]
     },
     "execution_count": 87,
     "metadata": {},
     "output_type": "execute_result"
    }
   ],
   "source": [
    "9669  / (10**3)"
   ]
  },
  {
   "cell_type": "code",
   "execution_count": 88,
   "metadata": {},
   "outputs": [],
   "source": [
    "list_unit_names, list_bedrooms, list_bathrooms, \\\n",
    "    list_rent_prices, list_areas, list_towers, list_floors, \\\n",
    "    list_time_taken, list_facilities_unit, list_facilities_apart, \\\n",
    "    list_conditions, list_estimation_prices = ([] for i in range(12))\n"
   ]
  },
  {
   "cell_type": "code",
   "execution_count": 4,
   "metadata": {},
   "outputs": [
    {
     "name": "stdout",
     "output_type": "stream",
     "text": [
      "\n"
     ]
    }
   ],
   "source": [
    "list_conditions = 'abacara'\n",
    "print(list_conditions[1:1:1])"
   ]
  },
  {
   "cell_type": "code",
   "execution_count": null,
   "metadata": {},
   "outputs": [],
   "source": [
    "print (4 * (10 ** 0))\n",
    "# print(num +300)"
   ]
  },
  {
   "cell_type": "code",
   "execution_count": 31,
   "metadata": {},
   "outputs": [
    {
     "name": "stdout",
     "output_type": "stream",
     "text": [
      "6\n"
     ]
    }
   ],
   "source": [
    "num = 9996\n",
    "temp_num = numdigit = temp_num // (10 ** 0)\n",
    "print(digit)"
   ]
  },
  {
   "cell_type": "code",
   "execution_count": 37,
   "metadata": {},
   "outputs": [
    {
     "name": "stdout",
     "output_type": "stream",
     "text": [
      "999\n"
     ]
    }
   ],
   "source": [
    "num = 9996\n",
    "temp_num = numdigit = temp_num // (10 ** 4)\n",
    "print(digit)"
   ]
  },
  {
   "cell_type": "code",
   "execution_count": 66,
   "metadata": {},
   "outputs": [
    {
     "name": "stdout",
     "output_type": "stream",
     "text": [
      "9\n"
     ]
    }
   ],
   "source": [
    "num = 9669\n",
    "temp_num = num\n",
    "digit = temp_num // (10 ** 3)\n",
    "print(digit)"
   ]
  },
  {
   "cell_type": "code",
   "execution_count": null,
   "metadata": {},
   "outputs": [],
   "source": []
  },
  {
   "cell_type": "code",
   "execution_count": 61,
   "metadata": {},
   "outputs": [],
   "source": [
    "\n",
    "def lengthOfLongestSubstring( s):\n",
    "    seen = {}\n",
    "    l = 0\n",
    "    length = 0\n",
    "    for r in range(len(s)):\n",
    "        char = s[r]\n",
    "        print(char)\n",
    "\n",
    "        if char in seen and seen[char] >= l:\n",
    "            l = seen[char] + 1\n",
    "            print(\"l :\",l)\n",
    "            print(\"length :\",length)\n",
    "\n",
    "        else:\n",
    "            length = max(length, r - l +1 )\n",
    "            print(\"length :\",length)\n",
    "            print(\"l :\",l)\n",
    "\n",
    "\n",
    "        seen[char] = r\n",
    "\n",
    "    return length"
   ]
  },
  {
   "cell_type": "code",
   "execution_count": 64,
   "metadata": {},
   "outputs": [
    {
     "name": "stdout",
     "output_type": "stream",
     "text": [
      "p\n",
      "length : 1\n",
      "l : 0\n",
      "w\n",
      "length : 2\n",
      "l : 0\n",
      "w\n",
      "l : 2\n",
      "length : 2\n",
      "k\n",
      "length : 2\n",
      "l : 2\n",
      "e\n",
      "length : 3\n",
      "l : 2\n",
      "w\n",
      "l : 3\n",
      "length : 3\n"
     ]
    },
    {
     "data": {
      "text/plain": [
       "'ww'"
      ]
     },
     "execution_count": 64,
     "metadata": {},
     "output_type": "execute_result"
    }
   ],
   "source": [
    "obj = lengthOfLongestSubstring(\"pwwkew\")\n",
    "obj\n",
    "a = \"pwwkew\"\n",
    "a[1:3]"
   ]
  },
  {
   "cell_type": "code",
   "execution_count": 25,
   "metadata": {},
   "outputs": [
    {
     "name": "stdout",
     "output_type": "stream",
     "text": [
      "[['eat', 'tea', 'ate'], ['tan', 'nat'], ['bat']]\n"
     ]
    }
   ],
   "source": [
    "strs = [\"eat\",\"tea\",\"tan\",\"ate\",\"nat\",\"bat\"]\n",
    "arr = {}\n",
    "\n",
    "end = 0\n",
    "while end < (len(strs)):\n",
    "    arr_temp =[]\n",
    "    string = \"\".join(sorted(strs[end]))\n",
    "    if string not in arr :\n",
    "         arr_temp.append(strs[end])\n",
    "         arr[string] =  arr_temp\n",
    "    else:\n",
    "         arr_temp.append(strs[end])\n",
    "         arr[string] +=  arr_temp\n",
    "    end += 1 \n",
    "arr= list( arr.values())\n",
    "print(arr)"
   ]
  },
  {
   "cell_type": "code",
   "execution_count": 34,
   "metadata": {},
   "outputs": [
    {
     "name": "stdout",
     "output_type": "stream",
     "text": [
      "['ALFRED', 'TABITHA', 'WILLIAM', 'ARLA']\n"
     ]
    }
   ],
   "source": [
    "my_pets = ['Alfred', 'Tabitha', 'William', 'Arla']\n",
    "uppered_pets =   list(map(   str.upper, my_pets))\n",
    "print(uppered_pets)"
   ]
  },
  {
   "cell_type": "code",
   "execution_count": 36,
   "metadata": {},
   "outputs": [
    {
     "name": "stdout",
     "output_type": "stream",
     "text": [
      "[2, 4, 6, 8, 10]\n",
      "81\n"
     ]
    }
   ],
   "source": [
    "ada = [1,2,3,4,5]\n",
    "a = map(lambda x : x*2, ada)\n",
    "a = list(a)\n",
    "print(a)\n",
    "\n",
    "\n",
    "power = lambda x,y : pow(x,y)\n",
    "print(power(3,4))"
   ]
  },
  {
   "cell_type": "code",
   "execution_count": 52,
   "metadata": {},
   "outputs": [
    {
     "name": "stdout",
     "output_type": "stream",
     "text": [
      "1400\n"
     ]
    }
   ],
   "source": [
    "items = [\n",
    "    {\"item\": \"Laptop\", \"price\": 800},\n",
    "    {\"item\": \"Phone\", \"price\": 500},\n",
    "    {\"item\": \"Headphones\", \"price\": 100}\n",
    "]\n",
    "\n",
    "total_price  =  lambda item : sum(item['price'] for item in items)\n",
    "print(total_price(items))"
   ]
  },
  {
   "cell_type": "code",
   "execution_count": 56,
   "metadata": {},
   "outputs": [
    {
     "name": "stdout",
     "output_type": "stream",
     "text": [
      "[1, 3, 5, 7, 9]\n"
     ]
    }
   ],
   "source": [
    "numbers = [1, -2, 3, -4, 5, -6, 7, -8, 9, -10]\n",
    "positive_numbers = filter(lambda x : x> 0, numbers)\n",
    "print(list(positive_numbers))"
   ]
  },
  {
   "cell_type": "code",
   "execution_count": 2,
   "metadata": {},
   "outputs": [
    {
     "name": "stdout",
     "output_type": "stream",
     "text": [
      "[['eat', 'tea', 'ate'], ['tan', 'nat'], ['bat']]\n"
     ]
    }
   ],
   "source": [
    "from collections import defaultdict\n",
    "strs = [\"eat\",\"tea\",\"tan\",\"ate\",\"nat\",\"bat\"]\n",
    "map = defaultdict(list)\n",
    "\n",
    "for  str in strs:\n",
    "    str_sorted = ''.join(sorted(str))\n",
    "    map[str_sorted].append(str)\n",
    "print(list(map.values()))"
   ]
  },
  {
   "cell_type": "code",
   "execution_count": 11,
   "metadata": {},
   "outputs": [
    {
     "name": "stdout",
     "output_type": "stream",
     "text": [
      "process 1 :  numbers of  cont_id 1245565\n",
      "process 1 :  numbers of  cont_id 1245565 Finisihed\n",
      "process 2 :  numbers of  cont_id 1245565\n",
      "process 2 :  numbers of  cont_id 1245565 Finisihed\n",
      "process 3 :  numbers of  cont_id 1245565\n",
      "process 3 :  numbers of  cont_id 1245565 Finisihed\n",
      "process 4 :  numbers of  cont_id 1245565\n",
      "process 4 :  numbers of  cont_id 1245565 Finisihed\n",
      "process 5 :  numbers of  cont_id 1245565\n",
      "process 5 :  numbers of  cont_id 1245565 Finisihed\n",
      "process 6 :  numbers of  cont_id 1245565\n",
      "process 6 :  numbers of  cont_id 1245565 Finisihed\n",
      "process 7 :  numbers of  cont_id 1245565\n",
      "process 7 :  numbers of  cont_id 1245565 Finisihed\n",
      "process 8 :  numbers of  cont_id 1245565\n",
      "process 8 :  numbers of  cont_id 1245565 Finisihed\n",
      "process 9 :  numbers of  cont_id 1245565\n",
      "process 9 :  numbers of  cont_id 1245565 Finisihed\n",
      "process 10 : numbers of  cont_id 4\n",
      "process 10 :  numbers of  cont_id 4 Finisihed\n",
      "finished 100%\n"
     ]
    }
   ],
   "source": [
    "num_part =10\n",
    "num_of_rows =12455654\n",
    "aa = num_of_rows // 10\n",
    "aa_mod = num_of_rows % 10\n",
    "for i in range(10):\n",
    "    i += 1\n",
    "    if i != num_part and i ==1:\n",
    "        print(\"process {} :  numbers of  cont_id {}\".format(i, aa))\n",
    "        df_partisi =  df.limit(aa).\n",
    "        print(\"process {} :  numbers of  cont_id {} Finisihed\".format(i, aa))\n",
    "    elif i != num_part and i !=1:\n",
    "        print(\"process {} :  numbers of  cont_id {}\".format(i, aa))\n",
    "        df_partisi =  df.limit(aa).\n",
    "        print(\"process {} :  numbers of  cont_id {} Finisihed\".format(i, aa))\n",
    "    else:\n",
    "        print(\"process {} : numbers of  cont_id {}\".format(i,aa_mod))\n",
    "        print(\"process {} :  numbers of  cont_id {} Finisihed\".format(i, aa_mod))\n",
    "\n",
    "\n",
    "print(\"finished 100%\")\n",
    "\n"
   ]
  },
  {
   "cell_type": "code",
   "execution_count": 44,
   "metadata": {},
   "outputs": [
    {
     "name": "stdout",
     "output_type": "stream",
     "text": [
      " with cte as (\n",
      "      select  cont_id from a where row_number between 1 and 10)\n",
      "\n",
      "    select * from final  a\n",
      "    inner join cte  b \n",
      "     on a.cont_id = b.cont_id\n",
      "     join idaaa\n",
      "     join aa\n",
      "    \n",
      "    \n"
     ]
    },
    {
     "ename": "NameError",
     "evalue": "name 'write' is not defined",
     "output_type": "error",
     "traceback": [
      "\u001b[1;31m---------------------------------------------------------------------------\u001b[0m",
      "\u001b[1;31mNameError\u001b[0m                                 Traceback (most recent call last)",
      "Cell \u001b[1;32mIn[44], line 30\u001b[0m\n\u001b[0;32m     28\u001b[0m      query \u001b[39m=\u001b[39m query_raw(start,end)\n\u001b[0;32m     29\u001b[0m      \u001b[39mprint\u001b[39m(query)\n\u001b[1;32m---> 30\u001b[0m      write\n\u001b[0;32m     31\u001b[0m i \u001b[39m+\u001b[39m\u001b[39m=\u001b[39m \u001b[39m10\u001b[39m\n",
      "\u001b[1;31mNameError\u001b[0m: name 'write' is not defined"
     ]
    }
   ],
   "source": [
    "partition_size = 10\n",
    "total_rows = 100\n",
    "def query_raw (start, end):\n",
    "    a = \"\"\" with cte as (\n",
    "      select  cont_id from a where row_number between {} and {})\n",
    "\n",
    "    select * from final  a\n",
    "    inner join cte  b \n",
    "     on a.cont_id = b.cont_id\n",
    "     join idaaa\n",
    "     join aa\n",
    "    \n",
    "    \"\"\".format(start,end)\n",
    "   \n",
    "    return a\n",
    "i =0\n",
    "while i < total_rows:\n",
    "    # Calculate the start and end row number for the current partition\n",
    "   if i == 10:\n",
    "        start  = i\n",
    "        end  = i+10\n",
    "        query = query_raw(start,end)\n",
    "        print(query)\n",
    "        write \n",
    "   else :\n",
    "        start  = i+1\n",
    "        end  = i+10\n",
    "        query = query_raw(start,end)\n",
    "        print(query)\n",
    "        write\n",
    "   i += 10"
   ]
  },
  {
   "cell_type": "code",
   "execution_count": 33,
   "metadata": {},
   "outputs": [
    {
     "name": "stdout",
     "output_type": "stream",
     "text": [
      "True\n",
      "False\n"
     ]
    }
   ],
   "source": [
    "string=  '{['\n",
    "stack = []\n",
    "pair_hash_map = {\"(\": \")\", \"{\":\"}\",\"[\":\"]\"}\n",
    "for char in   string:\n",
    "    if   char in pair_hash_map:\n",
    "        stack.append(char)\n",
    "    elif len(stack) == 0 or pair_hash_map[stack.pop()] != char:\n",
    "        return False\n",
    "return  len(stack) == 0"
   ]
  },
  {
   "cell_type": "code",
   "execution_count": 35,
   "metadata": {},
   "outputs": [],
   "source": [
    "string=  '}'\n",
    "stack = []\n",
    "pair_hash_map = {\"(\": \")\", \"{\":\"}\",\"[\":\"]\"}\n",
    " \n",
    "if   string in pair_hash_map:\n",
    "    print('s')"
   ]
  }
 ],
 "metadata": {
  "kernelspec": {
   "display_name": "base",
   "language": "python",
   "name": "python3"
  },
  "language_info": {
   "codemirror_mode": {
    "name": "ipython",
    "version": 3
   },
   "file_extension": ".py",
   "mimetype": "text/x-python",
   "name": "python",
   "nbconvert_exporter": "python",
   "pygments_lexer": "ipython3",
   "version": "3.9.16"
  },
  "orig_nbformat": 4,
  "vscode": {
   "interpreter": {
    "hash": "411961ea960fca14b53785b4dd15594fe86c89937a66a765acc3bac73ca80eb5"
   }
  }
 },
 "nbformat": 4,
 "nbformat_minor": 2
}
